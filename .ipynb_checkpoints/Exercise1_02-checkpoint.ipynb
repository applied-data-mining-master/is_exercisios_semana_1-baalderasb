{
 "cells": [
  {
   "cell_type": "markdown",
   "metadata": {},
   "source": [
    "# Exercise 1.02: Creating an AI with Random Behavior for the Tic-Tac-Toe Game\n",
    "\n",
    "In this exercise, we'll create a framework for the tic-tac-toe game for experimentation. We will be modeling the game on the assumption that the AI player always starts the game. You will create a function that prints your internal representation, allows your opponent to enter a move randomly, and determines whether a player has won."
   ]
  },
  {
   "cell_type": "markdown",
   "metadata": {},
   "source": [
    "1.- We will import the choice function from the random library:"
   ]
  },
  {
   "cell_type": "code",
   "execution_count": 142,
   "metadata": {},
   "outputs": [],
   "source": [
    "from random import choice "
   ]
  },
  {
   "cell_type": "markdown",
   "metadata": {},
   "source": [
    "2.- Model the nine cells in a simple string.\n",
    "\n",
    "  > **Note**  \n",
    "  > A nine-character long Python string stores these cells in the following order: `123456789`. Let's determine the index triples that must contain matching signs so that a player wins the game"
   ]
  },
  {
   "cell_type": "code",
   "execution_count": 143,
   "metadata": {},
   "outputs": [],
   "source": [
    "# Los indices empiezan en 0\n",
    "combos_index = [ \n",
    "    [0, 1, 2],\n",
    "    [0, 3, 6],\n",
    "    [0, 4, 8],\n",
    "    [1, 4, 7],\n",
    "    [2, 4, 6],\n",
    "    [2, 5, 8],\n",
    "    [3, 4, 5],\n",
    "    [6, 7, 8]\n",
    "]"
   ]
  },
  {
   "cell_type": "markdown",
   "metadata": {},
   "source": [
    "3.- Define the sign constants for empty cells, the AI, and the opponent player"
   ]
  },
  {
   "cell_type": "code",
   "execution_count": 144,
   "metadata": {},
   "outputs": [],
   "source": [
    "EMPTY_SIGN = '-'\n",
    "IA_SIGN = 'X'\n",
    "PLAYER_SIGN = 'O'"
   ]
  },
  {
   "cell_type": "markdown",
   "metadata": {},
   "source": [
    "4.- Create a function that prints a board.\n",
    "\n",
    "  > add an empty row before and after the board so that we can easily read the game state"
   ]
  },
  {
   "cell_type": "code",
   "execution_count": 145,
   "metadata": {},
   "outputs": [],
   "source": [
    "def print_board(board):\n",
    "    print(f'\\n{\" \".join(board[:3])}\\n{\" \".join(board[3:6])}\\n{\" \".join(board[6:])}\\n')"
   ]
  },
  {
   "cell_type": "markdown",
   "metadata": {},
   "source": [
    "5.- Describe a move of the human player.\n",
    "\n",
    "  > **Note**  \n",
    "  > The input arguments are the boards, the row numbers from $1$ to $3$, and the column numbers from $1$ to $3$. The return value of this function is a board containing the new move"
   ]
  },
  {
   "cell_type": "code",
   "execution_count": 146,
   "metadata": {},
   "outputs": [],
   "source": [
    "def player_move(board, row, column):\n",
    "    index = 3 * (row - 1) + (column - 1)\n",
    "    if board[index] == EMPTY_SIGN:\n",
    "        board[index] = PLAYER_SIGN\n",
    "    \n",
    "    return board"
   ]
  },
  {
   "cell_type": "markdown",
   "metadata": {},
   "source": [
    "6.- Define a random move on the part of the AI player. Generate all possible moves defining the  `all_moves_from_board` function, and then select a random move from the list of possible moves\n",
    "\n",
    "  >**Hints**  \n",
    "  >Defined a function called all_moves_from_board that goes through all the indexes on the board and checks whether they are empty (`v == EMPTY_SIGN`). If that's the case, this means that the move can be played and that the index has been added to a list of moves (`move_list`). Finally, we defined the `ai_move` function in order to randomly let the AI choose an index that is equal to a move in the game."
   ]
  },
  {
   "cell_type": "code",
   "execution_count": 147,
   "metadata": {},
   "outputs": [],
   "source": [
    "def all_moves_from_board(board):\n",
    "    move_list = list()\n",
    "    \n",
    "    for index in range(len(board)):\n",
    "        if board[index] == EMPTY_SIGN:\n",
    "            move_list.append(index)\n",
    "            \n",
    "    return move_list\n",
    "\n",
    "\n",
    "def ia_move(board):\n",
    "    board[choice(all_moves_from_board(board))] = IA_SIGN\n",
    "    \n",
    "    return board"
   ]
  },
  {
   "cell_type": "markdown",
   "metadata": {},
   "source": [
    "7.- Determine whether a player has won the game.\n",
    "\n",
    "  > **Hints**  \n",
    "  > Define the `game_won_by` function, which checks whether the board contains a combo of three identical indexes from the `combo_indices` variable to end the game."
   ]
  },
  {
   "cell_type": "code",
   "execution_count": 148,
   "metadata": {},
   "outputs": [],
   "source": [
    "def game_won_by(board):\n",
    "    for combo_index in combos_index:\n",
    "        if board[combo_index[0]] == board[combo_index[1]] == board[combo_index[2]] and board[combo_index[0]] != EMPTY_SIGN:\n",
    "            return board[combo_index[0]]\n",
    " \n",
    "    return EMPTY_SIGN"
   ]
  },
  {
   "cell_type": "markdown",
   "metadata": {},
   "source": [
    "8.- Finally, create a game loop so that we can test the interaction between the computer player and the human player.\n",
    "\n",
    "  > **Hints**  \n",
    "  >  * Conduct a brute-force search.\n",
    "  >  * Defined the function, which can be broken down into various parts. The first part is to initialize the board and fill it with empty signs (`board = EMPTY_SIGN * 9`). Then, we create a counter of the empty cell, which will help us to create a loop and determine the AI's turn.The second part is to create a function for the player and the AI engine to play the game against each other. As soon as one player makes a move, the `empty_cell_count` variable will decrease by $1$. The loop will keep going until either the `game_won_by` function finds a winner or there are no more possible moves on the board."
   ]
  },
  {
   "cell_type": "code",
   "execution_count": 149,
   "metadata": {},
   "outputs": [],
   "source": [
    "def game_loop():\n",
    "    board = [EMPTY_SIGN for _ in range(0, 9)]\n",
    "    empty_cell_count = 9\n",
    "    game_ended = False\n",
    "    \n",
    "    while empty_cell_count > 0 and  not game_ended:\n",
    "        if empty_cell_count % 2 == 0:\n",
    "            board = ia_move(board)\n",
    "        else:\n",
    "            row = int(input('Fila: '))\n",
    "            column = int(input('Columna: '))\n",
    "            board = player_move(board, row, column)\n",
    "            \n",
    "        print_board(board)\n",
    "        \n",
    "        # Actualización de condiciones\n",
    "        if game_won_by(board) != EMPTY_SIGN:\n",
    "            game_ended = True\n",
    "        \n",
    "        empty_cell_count = board.count(EMPTY_SIGN)"
   ]
  },
  {
   "cell_type": "markdown",
   "metadata": {},
   "source": [
    "9.- Use the `game_loop` function to run the game"
   ]
  },
  {
   "cell_type": "code",
   "execution_count": 151,
   "metadata": {},
   "outputs": [
    {
     "name": "stdout",
     "output_type": "stream",
     "text": [
      "Fila: 2\n",
      "Columna: 1\n",
      "\n",
      "- - -\n",
      "O - -\n",
      "- - -\n",
      "\n",
      "\n",
      "- X -\n",
      "O - -\n",
      "- - -\n",
      "\n",
      "Fila: 3\n",
      "Columna: 3\n",
      "\n",
      "- X -\n",
      "O - -\n",
      "- - O\n",
      "\n",
      "\n",
      "- X -\n",
      "O - -\n",
      "X - O\n",
      "\n",
      "Fila: 2\n",
      "Columna: 3\n",
      "\n",
      "- X -\n",
      "O - O\n",
      "X - O\n",
      "\n",
      "\n",
      "- X -\n",
      "O X O\n",
      "X - O\n",
      "\n",
      "Fila: 1\n",
      "Columna: 1\n",
      "\n",
      "O X -\n",
      "O X O\n",
      "X - O\n",
      "\n",
      "\n",
      "O X X\n",
      "O X O\n",
      "X - O\n",
      "\n"
     ]
    }
   ],
   "source": [
    "game_loop()"
   ]
  }
 ],
 "metadata": {
  "kernelspec": {
   "display_name": "Python 3",
   "language": "python",
   "name": "python3"
  },
  "language_info": {
   "codemirror_mode": {
    "name": "ipython",
    "version": 3
   },
   "file_extension": ".py",
   "mimetype": "text/x-python",
   "name": "python",
   "nbconvert_exporter": "python",
   "pygments_lexer": "ipython3",
   "version": "3.9.0"
  }
 },
 "nbformat": 4,
 "nbformat_minor": 4
}
