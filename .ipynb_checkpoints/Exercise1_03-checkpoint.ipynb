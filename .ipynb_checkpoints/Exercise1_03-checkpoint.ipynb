{
 "cells": [
  {
   "cell_type": "markdown",
   "metadata": {},
   "source": [
    "# Exercise 1.03: Teaching the Agent to Win\n",
    "\n",
    "In this exercise, we will see how the steps needed to win can be reduced. We will be making the agent that we developed in the previous section activity detect situations where it can win a game.\n",
    "\n",
    "The following steps will help you to complete this exercise:"
   ]
  },
  {
   "cell_type": "markdown",
   "metadata": {},
   "source": [
    "1.- Reuse the previous code from Steps 1–5 from Activity 1.01"
   ]
  },
  {
   "cell_type": "code",
   "execution_count": null,
   "metadata": {},
   "outputs": [],
   "source": [
    "from random import choice\n",
    "\n",
    "triples = [\n",
    "    [0, 1, 2],\n",
    "    [0, 3, 6],\n",
    "    [0, 4, 8],\n",
    "    [1, 4, 7],\n",
    "    [2, 4, 6],\n",
    "    [2, 5, 8],\n",
    "    [3, 4, 5],\n",
    "    [6, 7, 8]\n",
    "]\n",
    "\n",
    "EMPTY_SIGN = '-'\n",
    "AI_SIGN = 'X'\n",
    "OPPONENT_SIGN = 'O'\n",
    "\n",
    "\n",
    "def print_board(board):\n",
    "    print(\"\\n{first_row}\\n{second_row}\\n{third_row}\\n\".format(first_row=' '.join(board[:3]),\n",
    "                                                              second_row=' '.join(board[3:6]),\n",
    "                                                              third_row=' '.join(board[6:])))\n",
    "\n",
    "\n",
    "def opponent_move(board, row, column):\n",
    "    index = 3 * (row - 1) + (column - 1)\n",
    "\n",
    "    if board[index] == EMPTY_SIGN:\n",
    "        return board[:index] + OPPONENT_SIGN + board[index + 1:]\n",
    "\n",
    "    return board\n",
    "\n",
    "\n",
    "def all_moves_from_board(board, sign):\n",
    "    move_list = list()\n",
    "\n",
    "    for index in range(len(board)):\n",
    "        if board[index] == EMPTY_SIGN:\n",
    "            move_list.append(board[:index] + sign + board[index + 1:])\n",
    "\n",
    "    return move_list"
   ]
  },
  {
   "cell_type": "code",
   "execution_count": 2,
   "metadata": {},
   "outputs": [],
   "source": [
    "# steps 2-5 of Acctivity"
   ]
  },
  {
   "cell_type": "markdown",
   "metadata": {},
   "source": [
    "2.- Re-define the function, `ai_move`.  `ai_move` will return a move that consider its own previous moves. If the game can be won in that move, ai_move will select that move:"
   ]
  },
  {
   "cell_type": "code",
   "execution_count": null,
   "metadata": {},
   "outputs": [],
   "source": [
    "def ai_move(board):\n",
    "    boards = all_moves_from_board(board, AI_SIGN)\n",
    "    \n",
    "    for board in boards:\n",
    "        if game_won_by(board) == AI_SIGN:\n",
    "            return board\n",
    "        \n",
    "    return choice(boards)"
   ]
  },
  {
   "cell_type": "markdown",
   "metadata": {},
   "source": [
    "3.- Test the code snippet with a game loop."
   ]
  },
  {
   "cell_type": "code",
   "execution_count": null,
   "metadata": {},
   "outputs": [
    {
     "name": "stdout",
     "output_type": "stream",
     "text": [
      "\n",
      ". X .\n",
      ". . .\n",
      ". . .\n",
      "\n",
      "Fila: 1\n",
      "Columna: 1\n",
      "\n",
      "O X .\n",
      ". . .\n",
      ". . .\n",
      "\n",
      "\n",
      "O X .\n",
      ". . .\n",
      ". . X\n",
      "\n",
      "Fila: 1\n",
      "Columna: 3\n",
      "\n",
      "O X O\n",
      ". . .\n",
      ". . X\n",
      "\n",
      "\n",
      "O X O\n",
      ". X .\n",
      ". . X\n",
      "\n",
      "Fila: 2\n",
      "Columna: 3\n",
      "\n",
      "O X O\n",
      ". X O\n",
      ". . X\n",
      "\n",
      "\n",
      "O X O\n",
      ". X O\n",
      ". X X\n",
      "\n",
      "AI ganadora\n"
     ]
    }
   ],
   "source": [
    "def game_won_by(board):\n",
    "    for triple in triples:\n",
    "        if board[triple[0]] == board[triple[1]] == board[triple[2]] != EMPTY_SIGN:\n",
    "            return board[triple[0]]\n",
    "\n",
    "    return EMPTY_SIGN\n",
    "\n",
    "\n",
    "def game_loop():\n",
    "    board = EMPTY_SIGN * 9\n",
    "    is_game_ended = False\n",
    "\n",
    "    while board.count(EMPTY_SIGN) != 0 and not is_game_ended:\n",
    "        if board.count(EMPTY_SIGN) % 2 == 1:\n",
    "            board = ai_move(board)\n",
    "        else:\n",
    "            row = int(input('Fila: '))\n",
    "            col = int(input('Columna: '))\n",
    "            board = opponent_move(board,\t row, col)\n",
    "\n",
    "        print_board(board)\n",
    "        sign_flag = game_won_by(board)\n",
    "\n",
    "        if sign_flag != EMPTY_SIGN:\n",
    "            if sign_flag == AI_SIGN:\n",
    "                print(\"AI ganadora\")\n",
    "            else:\n",
    "                print(\"Jugador ganador\")\n",
    "                \n",
    "\n",
    "game_loop()"
   ]
  },
  {
   "cell_type": "markdown",
   "metadata": {},
   "source": [
    "4.- Count all the possible moves. To do this, we must change the `all_moves_from_board` function to include this improvement. We must do this so that, if the game is won by `AI_SIGN`, it will return that value"
   ]
  },
  {
   "cell_type": "code",
   "execution_count": 14,
   "metadata": {},
   "outputs": [],
   "source": [
    "def all_moves_from_board(board, sign):\n",
    "    boards_list = list()\n",
    "\n",
    "    for index in range(len(board)):\n",
    "        if board[index] == EMPTY_SIGN:\n",
    "            temp_board = board.copy()\n",
    "            temp_board[index] = sign\n",
    "\n",
    "            if game_won_by(temp_board) == IA_SIGN:\n",
    "                return temp_board\n",
    "\n",
    "            boards_list.append(temp_board)\n",
    "\n",
    "    return boards_list"
   ]
  },
  {
   "cell_type": "markdown",
   "metadata": {},
   "source": [
    "5.- find all the possibilities using the `count_possibilities` function\n",
    "\n",
    "Output:\n",
    "\n",
    "```\n",
    "step 0. Moves: 1\n",
    " step 1. Moves: 9\n",
    " step 2. Moves: 72\n",
    " step 3. Moves: 504\n",
    " step 4. Moves: 3024\n",
    " step 5. Moves: 8525\n",
    " step 6. Moves: 28612\n",
    " step 7. Moves: 42187\n",
    " step 8. Moves: 55888\n",
    " First player wins: 32395\n",
    " Second player wins: 23445\n",
    " Draw 35544\n",
    " Total 91384\n",
    "```"
   ]
  },
  {
   "cell_type": "code",
   "execution_count": null,
   "metadata": {},
   "outputs": [],
   "source": [
    "def all_moves_from_board_list(board_list, sign):\n",
    "    move_list = []\n",
    "    for board in board_list:\n",
    "        move_list.extend(all_moves_from_board(board, sign))\n",
    "    return move_list\n",
    "\n",
    "def count_possibilities():\n",
    "    board = [EMPTY_SIGN for _ in range(0, 9)]\n",
    "    boards = [board]\n",
    "    \n",
    "    for i in range(9):\n",
    "        print('Step {}. Moves: {}'.format(i, len(boards)))\n",
    "\n",
    "        if i % 2 == 0:\n",
    "            sign = IA_SIGN\n",
    "        else:\n",
    "            sign = PLAYER_SIGN\n",
    "          \n",
    "        for board in boards:\n",
    "            boards.append(all_moves_from_board(boards, sign))\n",
    "              \n",
    "count_possibilities()"
   ]
  }
 ],
 "metadata": {
  "kernelspec": {
   "display_name": "Python 3",
   "language": "python",
   "name": "python3"
  },
  "language_info": {
   "codemirror_mode": {
    "name": "ipython",
    "version": 3
   },
   "file_extension": ".py",
   "mimetype": "text/x-python",
   "name": "python",
   "nbconvert_exporter": "python",
   "pygments_lexer": "ipython3",
   "version": "3.9.0"
  }
 },
 "nbformat": 4,
 "nbformat_minor": 4
}
