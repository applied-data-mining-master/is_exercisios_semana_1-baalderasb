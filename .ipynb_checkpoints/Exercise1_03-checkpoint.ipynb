{
 "cells": [
  {
   "cell_type": "markdown",
   "metadata": {},
   "source": [
    "# Exercise 1.03: Teaching the Agent to Win\n",
    "\n",
    "In this exercise, we will see how the steps needed to win can be reduced. We will be making the agent that we developed in the previous section activity detect situations where it can win a game.\n",
    "\n",
    "The following steps will help you to complete this exercise:"
   ]
  },
  {
   "cell_type": "markdown",
   "metadata": {},
   "source": [
    "1.- Reuse the previous code from Steps 1–5 from Activity 1.01"
   ]
  },
  {
   "cell_type": "code",
   "execution_count": 30,
   "metadata": {},
   "outputs": [],
   "source": [
    "from random import choice\n",
    "\n",
    "triples = [\n",
    "    [0, 1, 2],\n",
    "    [3, 4, 5],\n",
    "    [6, 7, 8],\n",
    "    [0, 3, 6],\n",
    "    [1, 4, 7],\n",
    "    [2, 5, 8],\n",
    "    [0, 4, 8],\n",
    "    [2, 4, 6]\n",
    "]\n",
    "\n",
    "EMPTY_SIGN = '-'\n",
    "AI_SIGN = 'X'\n",
    "OPPONENT_SIGN = 'O'\n",
    "\n",
    "def opponent_move(board, row, column):\n",
    "    index = 3 * (row - 1) + (column - 1)\n",
    "\n",
    "    if board[index] == EMPTY_SIGN:\n",
    "        return board[:index] + OPPONENT_SIGN + board[index + 1:]\n",
    "\n",
    "    return board\n",
    "\n",
    "\n",
    "def all_moves_from_board(board, sign):\n",
    "    move_list = list()\n",
    "\n",
    "    for index in range(len(board)):\n",
    "        if board[index] == EMPTY_SIGN:\n",
    "            move_list.append(board[:index] + sign + board[index + 1:])\n",
    "\n",
    "    return move_list"
   ]
  },
  {
   "cell_type": "markdown",
   "metadata": {},
   "source": [
    "2.- Re-define the function, `ai_move`.  `ai_move` will return a move that consider its own previous moves. If the game can be won in that move, ai_move will select that move:"
   ]
  },
  {
   "cell_type": "code",
   "execution_count": 34,
   "metadata": {},
   "outputs": [],
   "source": [
    "def ai_move(board):\n",
    "    boards = all_moves_from_board(board, AI_SIGN)\n",
    "\n",
    "    for temp_board in boards:\n",
    "        if game_won_by(temp_board) == AI_SIGN:\n",
    "            return temp_board\n",
    "\n",
    "    return choice(boards)"
   ]
  },
  {
   "cell_type": "markdown",
   "metadata": {},
   "source": [
    "3.- Test the code snippet with a game loop."
   ]
  },
  {
   "cell_type": "code",
   "execution_count": 35,
   "metadata": {},
   "outputs": [
    {
     "name": "stdout",
     "output_type": "stream",
     "text": [
      "\n",
      "- - -\n",
      "- - -\n",
      "- X -\n",
      "\n",
      "Fila: 1\n",
      "Columna: 1\n",
      "\n",
      "O - -\n",
      "- - -\n",
      "- X -\n",
      "\n",
      "\n",
      "O - -\n",
      "- X -\n",
      "- X -\n",
      "\n",
      "Fila: 2\n",
      "Columna: 1\n",
      "\n",
      "O - -\n",
      "O X -\n",
      "- X -\n",
      "\n",
      "\n",
      "O X -\n",
      "O X -\n",
      "- X -\n",
      "\n",
      "AI ganadora\n"
     ]
    }
   ],
   "source": [
    "def game_won_by(board):\n",
    "    for triple in triples:\n",
    "        if board[triple[0]] == board[triple[1]] == board[triple[2]] != EMPTY_SIGN:\n",
    "            return board[triple[0]]\n",
    "\n",
    "    return EMPTY_SIGN\n",
    "\n",
    "\n",
    "def game_loop():\n",
    "    board = EMPTY_SIGN * 9\n",
    "    is_game_ended = False\n",
    "\n",
    "    while board.count(EMPTY_SIGN) != 0 and not is_game_ended:\n",
    "        if board.count(EMPTY_SIGN) % 2 == 1:\n",
    "            board = ai_move(board)\n",
    "        else:\n",
    "            row = int(input('Fila: '))\n",
    "            col = int(input('Columna: '))\n",
    "            board = opponent_move(board, row, col)\n",
    "\n",
    "        print_board(board)\n",
    "        sign_flag = game_won_by(board)\n",
    "\n",
    "        if sign_flag != EMPTY_SIGN:\n",
    "            game_ended = True\n",
    "            \n",
    "            if sign_flag == AI_SIGN:\n",
    "                print(\"AI ganadora\")\n",
    "            else:\n",
    "                print(\"Jugador ganador\")\n",
    "            break\n",
    "\n",
    "game_loop()"
   ]
  },
  {
   "cell_type": "markdown",
   "metadata": {},
   "source": [
    "4.- Count all the possible moves. To do this, we must change the `all_moves_from_board` function to include this improvement. We must do this so that, if the game is won by `AI_SIGN`, it will return that value"
   ]
  },
  {
   "cell_type": "code",
   "execution_count": 40,
   "metadata": {},
   "outputs": [],
   "source": [
    "def all_moves_from_board(board, sign):\n",
    "    moves = list()\n",
    "\n",
    "    for index in range(len(board)):\n",
    "        if board[index] == EMPTY_SIGN:\n",
    "            temp_board = board[:index] + sign + board[index + 1:]\n",
    "            moves.append(temp_board)\n",
    "\n",
    "            if game_won_by(temp_board) == AI_SIGN:\n",
    "                return [temp_board]\n",
    "\n",
    "    return moves"
   ]
  },
  {
   "cell_type": "markdown",
   "metadata": {},
   "source": [
    "5.- find all the possibilities using the `count_possibilities` function\n",
    "\n",
    "Output:\n",
    "\n",
    "```\n",
    "step 0. Moves: 1\n",
    " step 1. Moves: 9\n",
    " step 2. Moves: 72\n",
    " step 3. Moves: 504\n",
    " step 4. Moves: 3024\n",
    " step 5. Moves: 8525\n",
    " step 6. Moves: 28612\n",
    " step 7. Moves: 42187\n",
    " step 8. Moves: 55888\n",
    " First player wins: 32395\n",
    " Second player wins: 23445\n",
    " Draw 35544\n",
    " Total 91384\n",
    "```"
   ]
  },
  {
   "cell_type": "code",
   "execution_count": 42,
   "metadata": {},
   "outputs": [],
   "source": [
    "def all_moves(board_list, sign):\n",
    "    moves = list()\n",
    "\n",
    "    for board in board_list:\n",
    "        moves.extend(all_moves_from_board(board, sign))\n",
    "    \n",
    "    return moves\n",
    "\n",
    "\n",
    "def count_possibilities():\n",
    "    boards = [EMPTY_SIGN * 9]\n",
    "    ai_winnings = list()\n",
    "    opponent_winnings = list()\n",
    "\n",
    "    for number in range(9):\n",
    "        print(f'Step: {number}: Moves: {len(boards)}')\n",
    "\n",
    "        if number % 2 == 0:\n",
    "            sign = AI_SIGN\n",
    "        else:\n",
    "            sign = OPPONENT_SIGN\n",
    "\n",
    "        boards = all_moves(boards, sign)\n",
    "        for board in boards:\n",
    "            if game_won_by(board) == AI_SIGN:\n",
    "                ai_winnings.append(board)\n",
    "                boards.remove(board)\n",
    "            elif game_won_by(board) == OPPONENT_SIGN:\n",
    "                opponent_winnings.append(board)\n",
    "                boards.remove(board)\n",
    "\n",
    "    print(f'First player wins: {len(ai_winnings)}')\n",
    "    print(f'Second player wins: {len(opponent_winnings)}')\n",
    "    print(f'Draw: {len(boards)}')\n",
    "    print(f'Total {len(ai_winnings) + len(opponent_winnings) + len(boards)}')"
   ]
  },
  {
   "cell_type": "code",
   "execution_count": 43,
   "metadata": {},
   "outputs": [
    {
     "name": "stdout",
     "output_type": "stream",
     "text": [
      "Step: 0: Moves: 1\n",
      "Step: 1: Moves: 9\n",
      "Step: 2: Moves: 72\n",
      "Step: 3: Moves: 504\n",
      "Step: 4: Moves: 3024\n",
      "Step: 5: Moves: 8525\n",
      "Step: 6: Moves: 28612\n",
      "Step: 7: Moves: 42187\n",
      "Step: 8: Moves: 55888\n",
      "First player wins: 32395\n",
      "Second player wins: 23445\n",
      "Draw: 35544\n",
      "Total 91384\n"
     ]
    }
   ],
   "source": [
    "count_possibilities()"
   ]
  },
  {
   "cell_type": "code",
   "execution_count": null,
   "metadata": {},
   "outputs": [],
   "source": []
  }
 ],
 "metadata": {
  "kernelspec": {
   "display_name": "Python 3",
   "language": "python",
   "name": "python3"
  },
  "language_info": {
   "codemirror_mode": {
    "name": "ipython",
    "version": 3
   },
   "file_extension": ".py",
   "mimetype": "text/x-python",
   "name": "python",
   "nbconvert_exporter": "python",
   "pygments_lexer": "ipython3",
   "version": "3.9.0"
  }
 },
 "nbformat": 4,
 "nbformat_minor": 4
}
