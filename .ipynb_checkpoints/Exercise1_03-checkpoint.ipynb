{
 "cells": [
  {
   "cell_type": "markdown",
   "metadata": {},
   "source": [
    "# Exercise 1.03: Teaching the Agent to Win\n",
    "\n",
    "In this exercise, we will see how the steps needed to win can be reduced. We will be making the agent that we developed in the previous section activity detect situations where it can win a game.\n",
    "\n",
    "The following steps will help you to complete this exercise:"
   ]
  },
  {
   "cell_type": "markdown",
   "metadata": {},
   "source": [
    "1.- Reuse the previous code from Steps 1–5 from Activity 1.01"
   ]
  },
  {
   "cell_type": "code",
   "execution_count": 91,
   "metadata": {},
   "outputs": [],
   "source": [
    "from random import choice\n",
    "\n",
    "combos_index = [\n",
    "    [0, 1, 2],\n",
    "    [0, 3, 6],\n",
    "    [0, 4, 8],\n",
    "    [1, 4, 7],\n",
    "    [2, 4, 6],\n",
    "    [2, 5, 8],\n",
    "    [3, 4, 5],\n",
    "    [6, 7, 8]\n",
    "]\n",
    "\n",
    "EMPTY_SIGN = '-'\n",
    "IA_SIGN = 'X'\n",
    "PLAYER_SIGN = 'O'\n",
    "\n",
    "\n",
    "def print_board(board):\n",
    "    print(f'\\n{\" \".join(board[:3])}\\n{\" \".join(board[3:6])}\\n{\" \".join(board[6:])}\\n')\n",
    "\n",
    "\n",
    "def player_move(board, row, column):\n",
    "    index = 3 * (row - 1) + (column - 1)\n",
    "    if board[index] == EMPTY_SIGN:\n",
    "        board[index] = PLAYER_SIGN\n",
    "\n",
    "    return board\n",
    "\n",
    "\n",
    "def game_won_by(board):\n",
    "    for combo_index in combos_index:\n",
    "        if board[combo_index[0]] == board[combo_index[1]] == board[combo_index[2]] and board[combo_index[0]] != EMPTY_SIGN:\n",
    "            return board[combo_index[0]]\n",
    "\n",
    "    return EMPTY_SIGN\n",
    "\n",
    "\n",
    "def game_loop():\n",
    "    board = [EMPTY_SIGN for _ in range(0, 9)]\n",
    "    empty_cell_count = 9\n",
    "    game_ended = False\n",
    "\n",
    "    while empty_cell_count > 0 and not game_ended:\n",
    "        if empty_cell_count % 2 == 0:\n",
    "            board = ia_move(board)\n",
    "        else:\n",
    "            row = int(input('Fila: '))\n",
    "            column = int(input('Columna: '))\n",
    "            board = player_move(board, row, column)\n",
    "\n",
    "        print_board(board)\n",
    "\n",
    "        # Actualización de condiciones\n",
    "        if game_won_by(board) != EMPTY_SIGN:\n",
    "            game_ended = True\n",
    "\n",
    "        empty_cell_count = board.count(EMPTY_SIGN)"
   ]
  },
  {
   "cell_type": "code",
   "execution_count": 2,
   "metadata": {},
   "outputs": [],
   "source": [
    "# steps 2-5 of Acctivity"
   ]
  },
  {
   "cell_type": "markdown",
   "metadata": {},
   "source": [
    "2.- Re-define the function, `ai_move`.  `ai_move` will return a move that consider its own previous moves. If the game can be won in that move, ai_move will select that move:"
   ]
  },
  {
   "cell_type": "code",
   "execution_count": 92,
   "metadata": {},
   "outputs": [],
   "source": [
    "def all_moves_from_board(board, sign):\n",
    "    boards_list = list()\n",
    "\n",
    "    for index in range(len(board)):\n",
    "        if board[index] == EMPTY_SIGN:\n",
    "            temp_board = board.copy()\n",
    "            temp_board[index] = sign\n",
    "\n",
    "            if game_won_by(temp_board) == sign:\n",
    "                return temp_board\n",
    "\n",
    "            boards_list.append(temp_board)\n",
    "\n",
    "    return boards_list\n",
    "\n",
    "\n",
    "def ia_move(board):\n",
    "    boards_list = all_moves_from_board(board, IA_SIGN)\n",
    "\n",
    "    if len(boards_list) == 9:\n",
    "        return boards_list\n",
    "    return choice(boards_list)"
   ]
  },
  {
   "cell_type": "markdown",
   "metadata": {},
   "source": [
    "3.- Test the code snippet with a game loop."
   ]
  },
  {
   "cell_type": "code",
   "execution_count": 93,
   "metadata": {},
   "outputs": [
    {
     "name": "stdout",
     "output_type": "stream",
     "text": [
      "Fila: 1\n",
      "Columna: 1\n",
      "\n",
      "O - -\n",
      "- - -\n",
      "- - -\n",
      "\n",
      "\n",
      "O - -\n",
      "- - -\n",
      "- - X\n",
      "\n",
      "Fila: 1\n",
      "Columna: 2\n",
      "\n",
      "O O -\n",
      "- - -\n",
      "- - X\n",
      "\n",
      "\n",
      "O O -\n",
      "- - X\n",
      "- - X\n",
      "\n",
      "Fila: 2\n",
      "Columna: 1\n",
      "\n",
      "O O -\n",
      "O - X\n",
      "- - X\n",
      "\n",
      "\n",
      "O O X\n",
      "O - X\n",
      "- - X\n",
      "\n"
     ]
    }
   ],
   "source": [
    "game_loop()"
   ]
  },
  {
   "cell_type": "markdown",
   "metadata": {},
   "source": [
    "4.- Count all the possible moves. To do this, we must change the `all_moves_from_board` function to include this improvement. We must do this so that, if the game is won by `AI_SIGN`, it will return that value"
   ]
  },
  {
   "cell_type": "code",
   "execution_count": null,
   "metadata": {},
   "outputs": [],
   "source": [
    "# Función definida arriba"
   ]
  },
  {
   "cell_type": "markdown",
   "metadata": {},
   "source": [
    "5.- find all the possibilities using the `count_possibilities` function\n",
    "\n",
    "Output:\n",
    "\n",
    "```\n",
    "step 0. Moves: 1\n",
    " step 1. Moves: 9\n",
    " step 2. Moves: 72\n",
    " step 3. Moves: 504\n",
    " step 4. Moves: 3024\n",
    " step 5. Moves: 8525\n",
    " step 6. Moves: 28612\n",
    " step 7. Moves: 42187\n",
    " step 8. Moves: 55888\n",
    " First player wins: 32395\n",
    " Second player wins: 23445\n",
    " Draw 35544\n",
    " Total 91384\n",
    "```"
   ]
  },
  {
   "cell_type": "code",
   "execution_count": null,
   "metadata": {},
   "outputs": [],
   "source": [
    "def count_possibilities():\n",
    "    boards = [EMPTY_SIGN for _ in range(0, 9)]\n",
    "    \n",
    "    for i in range(9):\n",
    "        print(f'Step %d. Moves: %d', i, len(board))\n",
    "        "
   ]
  }
 ],
 "metadata": {
  "kernelspec": {
   "display_name": "Python 3",
   "language": "python",
   "name": "python3"
  },
  "language_info": {
   "codemirror_mode": {
    "name": "ipython",
    "version": 3
   },
   "file_extension": ".py",
   "mimetype": "text/x-python",
   "name": "python",
   "nbconvert_exporter": "python",
   "pygments_lexer": "ipython3",
   "version": "3.9.0"
  }
 },
 "nbformat": 4,
 "nbformat_minor": 4
}
